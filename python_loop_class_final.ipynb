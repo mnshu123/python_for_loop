{
 "cells": [
  {
   "cell_type": "code",
   "execution_count": null,
   "id": "a38c6a7e-56c3-4884-a982-4c4ae91a01a3",
   "metadata": {},
   "outputs": [],
   "source": [
    "# For loops for "
   ]
  },
  {
   "cell_type": "code",
   "execution_count": 8,
   "id": "e4978ee9-f60b-4ff2-8ae7-1c0d2f24afeb",
   "metadata": {},
   "outputs": [
    {
     "name": "stdout",
     "output_type": "stream",
     "text": [
      "True\n",
      "True\n",
      "False\n",
      "True\n",
      "False\n"
     ]
    }
   ],
   "source": [
    "from collections.abc import Iterable\n",
    "\n",
    "\n",
    "item1 = [1, 2, 3]\n",
    "item2 = \"hello\"\n",
    "item3 = 123\n",
    "item4 = {1, 2, 3}\n",
    "item5 = -67\n",
    "\n",
    "# Check if each item is iterable\n",
    "print(isinstance(item1, Iterable))  \n",
    "print(isinstance(item2, Iterable)) \n",
    "print(isinstance(item3, Iterable))  \n",
    "print(isinstance(item4, Iterable))  \n",
    "print(isinstance(item5, Iterable))"
   ]
  },
  {
   "cell_type": "code",
   "execution_count": 11,
   "id": "febca190-9ee6-4f6a-afbc-7e9583ba9520",
   "metadata": {},
   "outputs": [
    {
     "name": "stdout",
     "output_type": "stream",
     "text": [
      "python\n",
      "java\n",
      "c++\n",
      "mysQl\n",
      "database\n"
     ]
    }
   ],
   "source": [
    "sequence = [\"python\",\"java\",\"c++\", \"mysQl\",\"database\"]\n",
    "for item in sequence:\n",
    "    print(item)\n"
   ]
  },
  {
   "cell_type": "code",
   "execution_count": 7,
   "id": "c89e8c8f-f986-4ba7-bd83-56b1962e1a29",
   "metadata": {},
   "outputs": [
    {
     "name": "stdout",
     "output_type": "stream",
     "text": [
      "name\n",
      "class\n"
     ]
    }
   ],
   "source": [
    "sequence = {\"name\":\"mnshu\",\"class\":\"python\"}\n",
    "for item in sequence:\n",
    "    print (item)"
   ]
  },
  {
   "cell_type": "code",
   "execution_count": null,
   "id": "fda961c4-974a-4b2b-a89d-bf05ff9119f6",
   "metadata": {},
   "outputs": [],
   "source": [
    "#using Range() function with for loops"
   ]
  },
  {
   "cell_type": "code",
   "execution_count": 19,
   "id": "9d9f12f3-0ab1-4cc9-a8cf-f8a5f102aced",
   "metadata": {},
   "outputs": [
    {
     "name": "stdout",
     "output_type": "stream",
     "text": [
      "apple\n",
      "banana\n",
      "date\n",
      "orange\n",
      "papaya\n"
     ]
    }
   ],
   "source": [
    "import time \n",
    "a = [\"apple\",\"banana\",\"date\",\"orange\",\"papaya\"]\n",
    "for item in a:\n",
    "    print(item)\n",
    "    time.sleep(5)"
   ]
  },
  {
   "cell_type": "code",
   "execution_count": 20,
   "id": "ac2c4da3-f1d8-49b2-b3c2-e849a18d6ff5",
   "metadata": {},
   "outputs": [
    {
     "name": "stdout",
     "output_type": "stream",
     "text": [
      "1\n",
      "3\n",
      "5\n",
      "7\n"
     ]
    }
   ],
   "source": [
    "for i in range(1,9,2):\n",
    "    print(i)"
   ]
  },
  {
   "cell_type": "code",
   "execution_count": 23,
   "id": "7c204480-dbbc-43dd-b1fb-225682b48fd9",
   "metadata": {},
   "outputs": [
    {
     "name": "stdout",
     "output_type": "stream",
     "text": [
      "2\n",
      "5\n",
      "8\n",
      "11\n",
      "14\n",
      "17\n",
      "20\n",
      "23\n"
     ]
    }
   ],
   "source": [
    "for i in range(2,25,3):\n",
    "    print(i)"
   ]
  },
  {
   "cell_type": "code",
   "execution_count": null,
   "id": "23cd94ef-84a8-4db8-8403-8808c6228af2",
   "metadata": {},
   "outputs": [],
   "source": [
    "# Nested for loops"
   ]
  },
  {
   "cell_type": "code",
   "execution_count": 27,
   "id": "1d2d1a5b-2e2e-4dd8-b011-c40456eeb409",
   "metadata": {},
   "outputs": [
    {
     "name": "stdout",
     "output_type": "stream",
     "text": [
      "Ram\n",
      "ram123@yahoo.com\n",
      "Aman\n",
      "Aman@gmail.com\n",
      "radharani\n",
      "rani@rex.com\n"
     ]
    }
   ],
   "source": [
    "sequence = [\"Rahul\",\"sangwan@gmail.com\",\"Ram\",\"ram123@yahoo.com\",\"Aman\",\"Aman@gmail.com\",\"radharani\",\"rani@rex.com\"]\n",
    "sequence_length = len(sequence)\n",
    "\n",
    "for name in range(2,sequence_length,1): # every second element (step by 2)\n",
    "    print(sequence[name])"
   ]
  },
  {
   "cell_type": "code",
   "execution_count": 28,
   "id": "5beb443a-8b26-432b-84c9-ad06130ae276",
   "metadata": {},
   "outputs": [
    {
     "name": "stdout",
     "output_type": "stream",
     "text": [
      "sangwan@gmail.com\n",
      "Ram\n",
      "ram123@yahoo.com\n",
      "Aman\n",
      "Aman@gmail.com\n",
      "radharani\n",
      "rani@rex.com\n"
     ]
    }
   ],
   "source": [
    "sequence = [\"Rahul\",\"sangwan@gmail.com\",\"Ram\",\"ram123@yahoo.com\",\"Aman\",\"Aman@gmail.com\",\"radharani\",\"rani@rex.com\"]\n",
    "sequence_length = len(sequence)\n",
    "\n",
    "for name in range(1,sequence_length,1): # every second element (step by 2)\n",
    "    print(sequence[name])"
   ]
  },
  {
   "cell_type": "code",
   "execution_count": 31,
   "id": "a567a4f6-a372-4796-a0be-ef2d8548f2f0",
   "metadata": {},
   "outputs": [
    {
     "name": "stdout",
     "output_type": "stream",
     "text": [
      "Ram\n",
      "Aman\n",
      "radharani\n"
     ]
    }
   ],
   "source": [
    "sequence = [\"Rahul\",\"sangwan@gmail.com\",\"Ram\",\"ram123@yahoo.com\",\"Aman\",\"Aman@gmail.com\",\"radharani\",\"rani@rex.com\"]\n",
    "sequence_length = len(sequence)\n",
    "\n",
    "for email in range(2,sequence_length,2): # every second element (step by 2)\n",
    "    print(sequence[email])"
   ]
  },
  {
   "cell_type": "code",
   "execution_count": 32,
   "id": "b5a00da1-6d30-471a-b141-654b3a61f039",
   "metadata": {},
   "outputs": [
    {
     "name": "stdout",
     "output_type": "stream",
     "text": [
      "sangwan@gmail.com\n",
      "ram123@yahoo.com\n",
      "Aman@gmail.com\n",
      "rani@rex.com\n"
     ]
    }
   ],
   "source": [
    "sequence = [\"Rahul\",\"sangwan@gmail.com\",\"Ram\",\"ram123@yahoo.com\",\"Aman\",\"Aman@gmail.com\",\"radharani\",\"rani@rex.com\"]\n",
    "sequence_length = len(sequence)\n",
    "\n",
    "for email in range(1,sequence_length,2): # every second element (step by 2)\n",
    "    print(sequence[email])"
   ]
  },
  {
   "cell_type": "code",
   "execution_count": 38,
   "id": "9947ed55-da9d-4efe-8086-60252fb2e3d4",
   "metadata": {},
   "outputs": [
    {
     "name": "stdout",
     "output_type": "stream",
     "text": [
      "['Ram', 'patel']\n",
      "['priya', 'sharma']\n",
      "['raj', 'malhotra']\n"
     ]
    }
   ],
   "source": [
    "indian_employee = [[\"Ram\",\"patel\"],[\"priya\",\"sharma\"],[\"raj\",\"malhotra\"]]\n",
    "for employee in indian_employee:\n",
    "    print(employee)"
   ]
  },
  {
   "cell_type": "code",
   "execution_count": 39,
   "id": "526dccbf-49df-40f4-9531-b2df366c7763",
   "metadata": {},
   "outputs": [
    {
     "name": "stdout",
     "output_type": "stream",
     "text": [
      "Ram\n",
      "patel\n",
      "priya\n",
      "sharma\n",
      "raj\n",
      "malhotra\n"
     ]
    }
   ],
   "source": [
    "for employee in indian_employee:\n",
    "    for employee_name in employee:\n",
    "        print(employee_name)"
   ]
  },
  {
   "cell_type": "code",
   "execution_count": null,
   "id": "6252b875-ae6f-4df0-a029-7c2a6a7a89b8",
   "metadata": {},
   "outputs": [],
   "source": [
    "# pass"
   ]
  },
  {
   "cell_type": "code",
   "execution_count": 47,
   "id": "c63d567f-eb43-45af-a225-0e677e937ff9",
   "metadata": {},
   "outputs": [
    {
     "name": "stdout",
     "output_type": "stream",
     "text": [
      "hello\n",
      "this\n"
     ]
    }
   ],
   "source": [
    "for i in range(5):\n",
    "    pass\n",
    "    \n",
    "print(\"hello\")\n",
    "print(\"this\")"
   ]
  },
  {
   "cell_type": "code",
   "execution_count": null,
   "id": "4fae2274-2e66-41a1-802a-446592b940f2",
   "metadata": {},
   "outputs": [],
   "source": [
    "# break"
   ]
  },
  {
   "cell_type": "code",
   "execution_count": 3,
   "id": "29c1e9c4-0ce2-4dfc-b347-c8b511da631f",
   "metadata": {},
   "outputs": [
    {
     "name": "stdout",
     "output_type": "stream",
     "text": [
      "python\n",
      "java\n",
      "database\n",
      "ram\n"
     ]
    }
   ],
   "source": [
    "sequence =(\"python\",\"java\",\"database\",\"ram\",\"mnshu\",\"mnshu\")\n",
    "for element in sequence:\n",
    "    if element == \"mnshu\":\n",
    "        break\n",
    "    print(element)"
   ]
  },
  {
   "cell_type": "code",
   "execution_count": null,
   "id": "a1feac77-23ba-4b29-8a0a-df8b37c2b4aa",
   "metadata": {},
   "outputs": [],
   "source": [
    "#continue"
   ]
  },
  {
   "cell_type": "code",
   "execution_count": 2,
   "id": "213978c0-6ecb-42ed-8b01-f83d9c0989c8",
   "metadata": {},
   "outputs": [
    {
     "name": "stdout",
     "output_type": "stream",
     "text": [
      "python\n",
      "java\n",
      "database\n",
      "ram\n"
     ]
    }
   ],
   "source": [
    "sequence =(\"python\",\"java\",\"database\",\"ram\",\"mnshu\",\"mnshu\")\n",
    "for element in sequence:\n",
    "    if element == \"mnshu\":\n",
    "        continue\n",
    "    print(element)    "
   ]
  },
  {
   "cell_type": "code",
   "execution_count": null,
   "id": "b82c587e-b86b-49c6-8da9-9ad7a12b61d7",
   "metadata": {},
   "outputs": [],
   "source": [
    "# continue statement"
   ]
  },
  {
   "cell_type": "code",
   "execution_count": 6,
   "id": "1dc3d7ba-25c7-4364-8c9a-af6bf894c8de",
   "metadata": {},
   "outputs": [
    {
     "name": "stdout",
     "output_type": "stream",
     "text": [
      "mnshu's average grade:86.66666666666667\n",
      "mnsh's average grade:88.33333333333333\n",
      "skipping mns because of missing grades\n",
      "mn's average grade:76.66666666666667\n",
      "m's average grade:89.33333333333333\n"
     ]
    }
   ],
   "source": [
    "students = [\n",
    "    {'name':'mnshu','grades':[80,90,90]},\n",
    "    {'name':'mnsh','grades':[80,95,90]},\n",
    "    {'name':'mns','grades':[]},\n",
    "    {'name':'mn','grades':[80,90,60]},\n",
    "    {'name':'m','grades':[80,90,98]},\n",
    "]\n",
    "for student in students:\n",
    "    if not student['grades']:\n",
    "        print(f\"skipping {student['name']} because of missing grades\")\n",
    "        continue  \n",
    "    average_grade = sum(student['grades'])/len(student['grades'])\n",
    "    print(f\"{student['name']}'s average grade:{average_grade}\")    \n"
   ]
  },
  {
   "cell_type": "code",
   "execution_count": null,
   "id": "f6b8901c-1b9f-4e9a-b1dd-895d84a04bee",
   "metadata": {},
   "outputs": [],
   "source": [
    "#else statement with for loop "
   ]
  },
  {
   "cell_type": "code",
   "execution_count": 9,
   "id": "b186cb04-28b8-40be-9003-440ecb367f9e",
   "metadata": {},
   "outputs": [
    {
     "name": "stdout",
     "output_type": "stream",
     "text": [
      "0\n",
      "1\n",
      "2\n",
      "3\n",
      "4\n",
      "5\n",
      "6\n",
      "7\n",
      "8\n",
      "loop competed successfully\n"
     ]
    }
   ],
   "source": [
    "for i in range(9):\n",
    "    print(i)\n",
    "else:\n",
    "    print(\"loop competed successfully\")"
   ]
  },
  {
   "cell_type": "code",
   "execution_count": 14,
   "id": "b469fca2-1e29-442b-82f8-9ac4db507b27",
   "metadata": {},
   "outputs": [
    {
     "name": "stdout",
     "output_type": "stream",
     "text": [
      "breadis found in the shopping list.\n"
     ]
    }
   ],
   "source": [
    "my_shopping_list = [\"apple\",\"banana\",\"milk\",\"bread\",\"eggs\",\"jelly\",\"biscuit\"]\n",
    "item =\"bread\"\n",
    "for listed_item in my_shopping_list:\n",
    "    if listed_item == item:\n",
    "        print(f\"{item}is found in the shopping list.\")\n",
    "        break\n",
    "else:\n",
    "        print(f\"{item} is not found in the shopping list.\")\n",
    "        "
   ]
  },
  {
   "cell_type": "code",
   "execution_count": null,
   "id": "f1472697-9430-4f1e-be89-478e734485e3",
   "metadata": {},
   "outputs": [],
   "source": [
    "# While loop"
   ]
  },
  {
   "cell_type": "code",
   "execution_count": 1,
   "id": "2be157fe-8303-4c7f-8a95-e74d231c50e7",
   "metadata": {},
   "outputs": [
    {
     "name": "stdout",
     "output_type": "stream",
     "text": [
      "1\n",
      "2\n",
      "3\n",
      "4\n",
      "5\n"
     ]
    }
   ],
   "source": [
    "i=1\n",
    "while i <6:\n",
    "    print(i)\n",
    "    i=i+1"
   ]
  },
  {
   "cell_type": "code",
   "execution_count": 2,
   "id": "93256dd2-c60e-4352-ab77-12829f6522b5",
   "metadata": {},
   "outputs": [
    {
     "name": "stdout",
     "output_type": "stream",
     "text": [
      "False\n"
     ]
    }
   ],
   "source": [
    "print(i <6)"
   ]
  },
  {
   "cell_type": "code",
   "execution_count": 3,
   "id": "7a91a17c-1a0b-4df6-9527-d1162300d767",
   "metadata": {},
   "outputs": [
    {
     "ename": "NameError",
     "evalue": "name 'true' is not defined",
     "output_type": "error",
     "traceback": [
      "\u001b[1;31m---------------------------------------------------------------------------\u001b[0m",
      "\u001b[1;31mNameError\u001b[0m                                 Traceback (most recent call last)",
      "Cell \u001b[1;32mIn[3], line 5\u001b[0m\n\u001b[0;32m      1\u001b[0m user_password \u001b[38;5;241m=\u001b[39m \u001b[38;5;241m20\u001b[39m\n\u001b[0;32m      2\u001b[0m \u001b[38;5;28;01mimport\u001b[39;00m \u001b[38;5;21;01mwebbrowser\u001b[39;00m\n\u001b[1;32m----> 5\u001b[0m \u001b[38;5;28;01mwhile\u001b[39;00m true:\n\u001b[0;32m      7\u001b[0m     user_input \u001b[38;5;241m=\u001b[39m \u001b[38;5;28mint\u001b[39m(\u001b[38;5;28minput\u001b[39m(\u001b[38;5;124m\"\u001b[39m\u001b[38;5;124mEnter your password:\u001b[39m\u001b[38;5;124m\"\u001b[39m))\n\u001b[0;32m      8\u001b[0m     \u001b[38;5;28;01mif\u001b[39;00m user_password \u001b[38;5;241m==\u001b[39m user_input:\n",
      "\u001b[1;31mNameError\u001b[0m: name 'true' is not defined"
     ]
    }
   ],
   "source": [
    "user_password = 20\n",
    "import webbrowser\n",
    "\n",
    "\n",
    "while true:\n",
    "    \n",
    "    user_input = int(input(\"Enter your password:\"))\n",
    "    if user_password == user_input:\n",
    "        print(\"you are authorised to access internet\")\n",
    "        webbrowser.open(\"www.google.com\")\n",
    "        break\n",
    "\n",
    "\n",
    "    \n",
    "    else:\n",
    "        print(\"password mismatch\")\n",
    "        \n"
   ]
  },
  {
   "cell_type": "code",
   "execution_count": 6,
   "id": "016d9712-1bca-4e28-b06a-f1dc714031dc",
   "metadata": {},
   "outputs": [
    {
     "name": "stdin",
     "output_type": "stream",
     "text": [
      "Enter your password :  49\n"
     ]
    },
    {
     "name": "stdout",
     "output_type": "stream",
     "text": [
      "password mismatch\n"
     ]
    },
    {
     "name": "stdin",
     "output_type": "stream",
     "text": [
      "Enter your password :  20\n"
     ]
    },
    {
     "name": "stdout",
     "output_type": "stream",
     "text": [
      "You are authorised to access internet\n"
     ]
    }
   ],
   "source": [
    "user_password = 20\n",
    "\n",
    "import webbrowser\n",
    "\n",
    "\n",
    "while True:\n",
    "    user_input = int(input(\"Enter your password : \"))\n",
    "    \n",
    "    if user_password == user_input:20\n",
    "        print(\"You are authorised to access internet\")\n",
    "        \n",
    "        webbrowser.open(\"www.google.com\")\n",
    "        \n",
    "        break\n",
    "        \n",
    "    else:\n",
    "        print(\"password mismatch\")\n"
   ]
  },
  {
   "cell_type": "code",
   "execution_count": 8,
   "id": "634a816d-8e22-4995-9966-a66ceda0c1b8",
   "metadata": {},
   "outputs": [
    {
     "name": "stdin",
     "output_type": "stream",
     "text": [
      "Enter your password 45\n"
     ]
    },
    {
     "name": "stdout",
     "output_type": "stream",
     "text": [
      "you are authorised to access internet\n"
     ]
    }
   ],
   "source": [
    "user_password = 45\n",
    "no_attempts = 1\n",
    "import webbrowser\n",
    "while no_attempts<4:\n",
    "    input_password = int(input(\"Enter your password\"))\n",
    "    if user_password ==input_password:\n",
    "        print(\"you are authorised to access internet\")\n",
    "        webbrowser.open(\"www.google.com\")\n",
    "        break\n",
    "    else:\n",
    "        print(\"password mismatch\")\n",
    "        no_attempta = no_attempta +1\n",
    "                         "
   ]
  },
  {
   "cell_type": "markdown",
   "id": "efac658b-7ca5-4390-90be-a2848430e7e7",
   "metadata": {},
   "source": [
    "#while loop with else block"
   ]
  },
  {
   "cell_type": "code",
   "execution_count": 10,
   "id": "8049b645-9de5-4e36-a6fe-84759c03ec73",
   "metadata": {},
   "outputs": [
    {
     "name": "stdout",
     "output_type": "stream",
     "text": [
      "2 x 1 = 2\n",
      "2 x 2 = 4\n",
      "2 x 3 = 6\n",
      "2 x 4 = 8\n",
      "2 x 5 = 10\n",
      "2 x 6 = 12\n",
      "2 x 7 = 14\n",
      "2 x 8 = 16\n",
      "2 x 9 = 18\n",
      "2 x 10 = 20\n"
     ]
    }
   ],
   "source": [
    "table = 2\n",
    "for i in range(1,11):\n",
    "    print(table,\"x\",i, \"=\",table*i)"
   ]
  },
  {
   "cell_type": "code",
   "execution_count": 11,
   "id": "57b3e57a-e226-400f-a672-54dc298cd8ac",
   "metadata": {},
   "outputs": [
    {
     "name": "stdout",
     "output_type": "stream",
     "text": [
      "['thusi', 'python', 'tuple', 'now']\n"
     ]
    }
   ],
   "source": [
    "list1 = [[\"thusi\", 1, 2, 3, 4], \"python\", (\"tuple\", 78), {\"now\"}, [[[\"This\"]]]]\n",
    "\n",
    "# List to store strings\n",
    "strings = []\n",
    "\n",
    "# Iterate through the items in list1\n",
    "for item in list1:\n",
    "    if isinstance(item, str):  # If it's a string, add it to the list\n",
    "        strings.append(item)\n",
    "    elif isinstance(item, (list, tuple, set)):  # If it's a nested list, tuple, or set\n",
    "        for sub_item in item:\n",
    "            if isinstance(sub_item, str):\n",
    "                strings.append(sub_item)\n",
    "            elif isinstance(sub_item, (list, tuple, set)):  # Handle deeper nested structures\n",
    "                for deeper_item in sub_item:\n",
    "                    if isinstance(deeper_item, str):\n",
    "                        strings.append(deeper_item)\n",
    "\n",
    "print(strings)"
   ]
  },
  {
   "cell_type": "code",
   "execution_count": null,
   "id": "6a152f6b-9e3e-4806-bbf1-fa319c5e1a16",
   "metadata": {},
   "outputs": [],
   "source": [
    "#usring recursion"
   ]
  },
  {
   "cell_type": "code",
   "execution_count": 12,
   "id": "62fa77f2-4f94-4422-b212-d676bb40c1a5",
   "metadata": {},
   "outputs": [
    {
     "name": "stdout",
     "output_type": "stream",
     "text": [
      "['thusi', 'python', 'tuple', 'now', 'This']\n"
     ]
    }
   ],
   "source": [
    "def extract_strings(data):\n",
    "    strings = []\n",
    "    \n",
    "    # Check if the data is a list, tuple, or set\n",
    "    if isinstance(data, (list, tuple, set)):\n",
    "        for item in data:\n",
    "            strings.extend(extract_strings(item))  # Recursively handle nested items\n",
    "    elif isinstance(data, str):  # If it's a string, add it to the result\n",
    "        strings.append(data)\n",
    "    \n",
    "    return strings\n",
    "\n",
    "# Given list1\n",
    "list1 = [[\"thusi\", 1, 2, 3, 4], \"python\", (\"tuple\", 78), {\"now\"}, [[[\"This\"]]]]\n",
    "\n",
    "# Extracting strings\n",
    "result = extract_strings(list1)\n",
    "\n",
    "print(result)\n"
   ]
  },
  {
   "cell_type": "code",
   "execution_count": null,
   "id": "dda57e32-5d9e-4f45-8d5c-85dc15007516",
   "metadata": {},
   "outputs": [],
   "source": []
  }
 ],
 "metadata": {
  "kernelspec": {
   "display_name": "Python 3 (ipykernel)",
   "language": "python",
   "name": "python3"
  },
  "language_info": {
   "codemirror_mode": {
    "name": "ipython",
    "version": 3
   },
   "file_extension": ".py",
   "mimetype": "text/x-python",
   "name": "python",
   "nbconvert_exporter": "python",
   "pygments_lexer": "ipython3",
   "version": "3.12.7"
  }
 },
 "nbformat": 4,
 "nbformat_minor": 5
}
